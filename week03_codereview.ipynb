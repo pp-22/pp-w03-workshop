{
 "cells": [
  {
   "cell_type": "markdown",
   "metadata": {},
   "source": [
    "# Week 3 workshop: Code review\n",
    "\n",
    "---\n",
    "\n",
    "The activity today is adapted from an MIT resource licensed under [CC BY-SA 4.0](http://creativecommons.org/licenses/by-sa/4.0/), available [here](https://web.mit.edu/6.005/www/fa15/classes/04-code-review/).\n",
    "\n",
    "There are other examples of good and bad practice available in that activity, which you are encouraged to read in your own time. The code is in Java, but it shouldn't be difficult to understand now that you know Python!\n",
    "\n",
    "---\n",
    "\n",
    "**Code review** is careful, systematic study of source code by people who are not the original author of the code. It’s analogous to **proofreading**.\n",
    "\n",
    "Code review really has two purposes:\n",
    "\n",
    "* **Improving the code.** Finding bugs, anticipating possible bugs, checking the clarity of the code, and checking for consistency with the project’s style standards.\n",
    "* **Improving the programmer.** Code review is an important way that programmers learn and teach each other, about new language features, changes in the design of the project or its coding standards, and new techniques. \n",
    "\n",
    "You have already started doing code review in CR1, and next week you will continue with CR2. The Tutorial sheet this week discusses code comments and code style; today, we will discuss other important aspects of what we can consider \"good code\" and \"bad code\".\n",
    "\n",
    "---\n",
    "\n",
    "# An example of what not to do\n",
    "\n",
    "🚩 ***Task 1:*** What does this function do?"
   ]
  },
  {
   "cell_type": "code",
   "execution_count": null,
   "metadata": {},
   "outputs": [],
   "source": [
    "def day_of_year(day_of_month, month, year):\n",
    "    \n",
    "    if month == 2:\n",
    "        day_of_month += 31\n",
    "    elif month == 3:\n",
    "        day_of_month += 59\n",
    "    elif month == 4:\n",
    "        day_of_month += 90\n",
    "    elif month == 5:\n",
    "        day_of_month += 31 + 28 + 31 + 30\n",
    "    elif month == 6:\n",
    "        day_of_month += 31 + 28 + 31 + 30 + 31\n",
    "    elif month == 7:\n",
    "        day_of_month += 31 + 28 + 31 + 30 + 31 + 30\n",
    "    elif month == 8:\n",
    "        day_of_month += 31 + 28 + 31 + 30 + 31 + 30 + 31\n",
    "    elif month == 9:\n",
    "        day_of_month += 31 + 28 + 31 + 30 + 31 + 30 + 31 + 31\n",
    "    elif month == 10:\n",
    "        day_of_month += 31 + 28 + 31 + 30 + 31 + 30 + 31 + 31 + 30\n",
    "    elif month == 11:\n",
    "        day_of_month += 31 + 28 + 31 + 30 + 31 + 30 + 31 + 31 + 30 + 31\n",
    "    elif month == 12:\n",
    "        day_of_month += 31 + 28 + 31 + 30 + 31 + 30 + 31 + 31 + 30 + 31 + 31\n",
    "\n",
    "    return day_of_month"
   ]
  },
  {
   "cell_type": "markdown",
   "metadata": {},
   "source": [
    "---\n",
    "## DRY: Don't Repeat Yourself\n",
    "\n",
    "Duplicated code is a risk to safety. If you have identical or very similar code in two places, then the fundamental risk is that there’s a bug in both copies, and some maintainer fixes the bug in one place but not the other.\n",
    "\n",
    "*Don’t Repeat Yourself*, or DRY for short, has become a programmer’s mantra.\n",
    "\n",
    "The `day_of_year()` example is full of identical code. Let's see how we could DRY it out.\n",
    "\n",
    "---\n",
    "🚩 ***Task 2:*** One reason why repeated code is bad is because a problem in the repeated code has to be fixed in many places, not just one. Suppose our calendar changed so that February really has 30 days instead of 28. How many numbers in this code have to be changed?"
   ]
  },
  {
   "cell_type": "markdown",
   "metadata": {},
   "source": [
    "*You can edit this Markdown cell to write down your notes...*"
   ]
  },
  {
   "cell_type": "markdown",
   "metadata": {},
   "source": [
    "---\n",
    "🚩 ***Task 3:*** Another kind of repetition in this code is `day_of_month +=`. It is possible to rewrite this function so that `day_of_month +=` only appears **once**, with the help of a list; complete the code below to do this."
   ]
  },
  {
   "cell_type": "code",
   "execution_count": null,
   "metadata": {},
   "outputs": [],
   "source": [
    "def day_of_year(day_of_month, month, year):\n",
    "    \n",
    "    month_length = [31, 28, 31, 30, 31, 30, 31, 31, 30, 31, 30, 31]\n",
    "    \n",
    "    # Add your code below...\n",
    "    \n",
    "    "
   ]
  },
  {
   "cell_type": "markdown",
   "metadata": {},
   "source": [
    "---\n",
    "## One purpose for each variable\n",
    "\n",
    "In the `day_of_year()` example, the variable `day_of_month` is reused to compute a very different value — the return value of the function, which is **not** the day of the month.\n",
    "\n",
    "Variables are *not* a scarce resource in programming. Introduce them freely, give them good names, and just stop using them when you stop needing them. You will confuse your reader if a variable that used to mean one thing suddenly starts meaning something different a few lines down.\n",
    "\n",
    "---\n",
    "🚩 ***Task 4:*** Introduce an appropriately-named variable in your new `day_of_year()` function, in order to avoid reusing and overwriting `day_of_month`."
   ]
  },
  {
   "cell_type": "code",
   "execution_count": null,
   "metadata": {},
   "outputs": [],
   "source": []
  },
  {
   "cell_type": "markdown",
   "metadata": {},
   "source": [
    "---\n",
    "## Avoid magic numbers\n",
    "\n",
    "Constant numbers (apart from 0, 1, and maybe 2) need to be **explained**. One way to explain them is with a code comment, but a far better way is to create a variable with a good, explanatory name.\n",
    "\n",
    "In the original `day_of_year()` function, `59` (line 6) and `90` (line 8) are particularly bad examples of **magic numbers**. Not only are they uncommented and undocumented, they are actually the result of a computation done *by hand by the programmer*. **Don’t hardcode numbers that you’ve computed by hand**. Python is better at arithmetic than you are.\n",
    "\n",
    "Explicit computations like `31 + 28`, which was done on lines 10 and below, make the provenance of these mysterious numbers much clearer. Using the list `month_length` is also helpful here.\n",
    "\n",
    "---\n",
    "🚩 ***Task 5:*** In the *Task 3* version of `day_of_year()`, does `month_length[month]` give the expected result? Find a way to resolve this in your code, keeping the above principles in mind."
   ]
  },
  {
   "cell_type": "code",
   "execution_count": null,
   "metadata": {},
   "outputs": [],
   "source": []
  },
  {
   "cell_type": "markdown",
   "metadata": {},
   "source": [
    "---\n",
    "## Fail fast\n",
    "\n",
    "*Failing fast* means that code should reveal its bugs as early as possible. The earlier a problem is observed (the closer to its cause), the easier it is to find and fix. **Checking input argument values** fails faster than producing a wrong answer that may corrupt subsequent computation.\n",
    "\n",
    "The `day_of_year()` function doesn’t fail fast — if you pass it the arguments in the wrong order, it will quietly return the wrong answer. In fact, the way `day_of_year()` is designed, [depending on where they are from](https://en.wikipedia.org/wiki/Date_format_by_country), someone will likely pass the arguments in the wrong order!\n",
    "\n",
    "---\n",
    "🚩 ***Task 6:*** The code below checks that `month` is indeed a number between 1 and 12, and **raises an error** with the `raise` keyword to exit the function immediately if it's not -- with a helpful error message for the user. Here, we choose to raise a `ValueError`, since the problem is with an inappropriate value.\n",
    "\n",
    "Continuing with your function from *Task 3*, add further checks at the start of the function to check that the input arguments take appropriate values.\n",
    "\n",
    "*See the Week 3 tutorial sheet for some of the most common error types.*"
   ]
  },
  {
   "cell_type": "code",
   "execution_count": null,
   "metadata": {},
   "outputs": [],
   "source": [
    "def day_of_year(day_of_month, month, year):\n",
    "    \n",
    "    if month < 1 or month > 12:\n",
    "        raise ValueError('Please choose a month between 1 (January) and 12 (December)!')\n",
    "    \n",
    "    month_length = [31, 28, 31, 30, 31, 30, 31, 31, 30, 31, 30, 31]\n",
    "    \n",
    "    # Add your code below...\n",
    "    \n",
    "\n",
    "\n",
    "# Testing\n",
    "print(day_of_year(2, 14, 1989))\n",
    "print(day_of_year(31, 2, 2025))"
   ]
  },
  {
   "cell_type": "markdown",
   "metadata": {},
   "source": [
    "---\n",
    "🚩 ***Task 7:*** In some cases, you might want to make a small change to an input value but continue with your function nonetheless -- in that case, display a message to inform the user.\n",
    "\n",
    "Add further checks on the input arguments, so that if floating point numbers are given, round them to the nearest integer, inform the user by printing a message, and continue with the rounded values."
   ]
  },
  {
   "cell_type": "code",
   "execution_count": null,
   "metadata": {},
   "outputs": [],
   "source": []
  }
 ],
 "metadata": {
  "kernelspec": {
   "display_name": "Python 3 (ipykernel)",
   "language": "python",
   "name": "python3"
  },
  "language_info": {
   "codemirror_mode": {
    "name": "ipython",
    "version": 3
   },
   "file_extension": ".py",
   "mimetype": "text/x-python",
   "name": "python",
   "nbconvert_exporter": "python",
   "pygments_lexer": "ipython3",
   "version": "3.9.12"
  }
 },
 "nbformat": 4,
 "nbformat_minor": 4
}
